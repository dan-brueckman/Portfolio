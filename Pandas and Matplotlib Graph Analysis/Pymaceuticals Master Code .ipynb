{
 "cells": [
  {
   "cell_type": "code",
   "execution_count": 2,
   "metadata": {
    "collapsed": true
   },
   "outputs": [],
   "source": [
    "import os\n",
    "import pandas as pd\n",
    "import matplotlib.pyplot as plt\n",
    "import numpy as np"
   ]
  },
  {
   "cell_type": "code",
   "execution_count": 3,
   "metadata": {
    "collapsed": true
   },
   "outputs": [],
   "source": [
    "mouse_csv = os.path.join(\".\", \"mouse_drug_data.csv\")\n",
    "drug_csv = os.path.join(\".\", \"clinicaltrial_data.csv\" )\n",
    "\n",
    "mouse_df = pd.read_csv(mouse_csv)\n",
    "drug_df = pd.read_csv(drug_csv)\n",
    "\n",
    "drug_list = ['Capomulin', 'Infubinol', 'Ketapril', 'Placebo']\n",
    "timepoint = [0, 5, 10, 15, 20, 25, 30, 35, 40, 45]\n"
   ]
  },
  {
   "cell_type": "code",
   "execution_count": 12,
   "metadata": {},
   "outputs": [
    {
     "data": {
      "text/html": [
       "<div>\n",
       "<style>\n",
       "    .dataframe thead tr:only-child th {\n",
       "        text-align: right;\n",
       "    }\n",
       "\n",
       "    .dataframe thead th {\n",
       "        text-align: left;\n",
       "    }\n",
       "\n",
       "    .dataframe tbody tr th {\n",
       "        vertical-align: top;\n",
       "    }\n",
       "</style>\n",
       "<table border=\"1\" class=\"dataframe\">\n",
       "  <thead>\n",
       "    <tr style=\"text-align: right;\">\n",
       "      <th></th>\n",
       "      <th>Mouse ID</th>\n",
       "      <th>Drug</th>\n",
       "      <th>Timepoint</th>\n",
       "      <th>Tumor Volume (mm3)</th>\n",
       "      <th>Metastatic Sites</th>\n",
       "    </tr>\n",
       "  </thead>\n",
       "  <tbody>\n",
       "    <tr>\n",
       "      <th>393</th>\n",
       "      <td>q119</td>\n",
       "      <td>Ketapril</td>\n",
       "      <td>0</td>\n",
       "      <td>45.000000</td>\n",
       "      <td>0</td>\n",
       "    </tr>\n",
       "    <tr>\n",
       "      <th>394</th>\n",
       "      <td>q119</td>\n",
       "      <td>Ketapril</td>\n",
       "      <td>5</td>\n",
       "      <td>47.864440</td>\n",
       "      <td>0</td>\n",
       "    </tr>\n",
       "    <tr>\n",
       "      <th>395</th>\n",
       "      <td>q119</td>\n",
       "      <td>Ketapril</td>\n",
       "      <td>10</td>\n",
       "      <td>51.236606</td>\n",
       "      <td>0</td>\n",
       "    </tr>\n",
       "    <tr>\n",
       "      <th>396</th>\n",
       "      <td>n923</td>\n",
       "      <td>Ketapril</td>\n",
       "      <td>0</td>\n",
       "      <td>45.000000</td>\n",
       "      <td>0</td>\n",
       "    </tr>\n",
       "    <tr>\n",
       "      <th>397</th>\n",
       "      <td>n923</td>\n",
       "      <td>Ketapril</td>\n",
       "      <td>5</td>\n",
       "      <td>45.824881</td>\n",
       "      <td>0</td>\n",
       "    </tr>\n",
       "  </tbody>\n",
       "</table>\n",
       "</div>"
      ],
      "text/plain": [
       "    Mouse ID      Drug  Timepoint  Tumor Volume (mm3)  Metastatic Sites\n",
       "393     q119  Ketapril          0           45.000000                 0\n",
       "394     q119  Ketapril          5           47.864440                 0\n",
       "395     q119  Ketapril         10           51.236606                 0\n",
       "396     n923  Ketapril          0           45.000000                 0\n",
       "397     n923  Ketapril          5           45.824881                 0"
      ]
     },
     "execution_count": 12,
     "metadata": {},
     "output_type": "execute_result"
    }
   ],
   "source": [
    "original_df = mouse_df.merge(drug_df, how = \"outer\", on = \"Mouse ID\")\n",
    "original_df = original_df.loc[(original_df[\"Drug\"] == \"Capomulin\") | (original_df[\"Drug\"] == \"Infubinol\") | (original_df[\"Drug\"] == \"Ketapril\") | (original_df[\"Drug\"] == \"Placebo\")]\n",
    "\n",
    "df_2 = mouse_df.merge(drug_df, how = \"outer\", on = \"Mouse ID\")\n",
    "df_2 = original_df.loc[(original_df[\"Drug\"] == \"Capomulin\") | (original_df[\"Drug\"] == \"Infubinol\") | (original_df[\"Drug\"] == \"Ketapril\") | (original_df[\"Drug\"] == \"Placebo\")]\n",
    "\n",
    "df_3 = mouse_df.merge(drug_df, how = \"outer\", on = \"Mouse ID\")\n",
    "df_3 = original_df.loc[(original_df[\"Drug\"] == \"Capomulin\") | (original_df[\"Drug\"] == \"Infubinol\") | (original_df[\"Drug\"] == \"Ketapril\") | (original_df[\"Drug\"] == \"Placebo\")]\n",
    "\n",
    "original_df.head()"
   ]
  },
  {
   "cell_type": "code",
   "execution_count": 5,
   "metadata": {},
   "outputs": [
    {
     "data": {
      "text/html": [
       "<div>\n",
       "<style>\n",
       "    .dataframe thead tr:only-child th {\n",
       "        text-align: right;\n",
       "    }\n",
       "\n",
       "    .dataframe thead th {\n",
       "        text-align: left;\n",
       "    }\n",
       "\n",
       "    .dataframe tbody tr th {\n",
       "        vertical-align: top;\n",
       "    }\n",
       "</style>\n",
       "<table border=\"1\" class=\"dataframe\">\n",
       "  <thead>\n",
       "    <tr style=\"text-align: right;\">\n",
       "      <th></th>\n",
       "      <th>Drug</th>\n",
       "      <th>Timepoint</th>\n",
       "      <th>Tumor Volume (mm3)</th>\n",
       "    </tr>\n",
       "  </thead>\n",
       "  <tbody>\n",
       "    <tr>\n",
       "      <th>393</th>\n",
       "      <td>Ketapril</td>\n",
       "      <td>0</td>\n",
       "      <td>45.000000</td>\n",
       "    </tr>\n",
       "    <tr>\n",
       "      <th>394</th>\n",
       "      <td>Ketapril</td>\n",
       "      <td>5</td>\n",
       "      <td>47.864440</td>\n",
       "    </tr>\n",
       "    <tr>\n",
       "      <th>395</th>\n",
       "      <td>Ketapril</td>\n",
       "      <td>10</td>\n",
       "      <td>51.236606</td>\n",
       "    </tr>\n",
       "    <tr>\n",
       "      <th>396</th>\n",
       "      <td>Ketapril</td>\n",
       "      <td>0</td>\n",
       "      <td>45.000000</td>\n",
       "    </tr>\n",
       "    <tr>\n",
       "      <th>397</th>\n",
       "      <td>Ketapril</td>\n",
       "      <td>5</td>\n",
       "      <td>45.824881</td>\n",
       "    </tr>\n",
       "  </tbody>\n",
       "</table>\n",
       "</div>"
      ],
      "text/plain": [
       "         Drug  Timepoint  Tumor Volume (mm3)\n",
       "393  Ketapril          0           45.000000\n",
       "394  Ketapril          5           47.864440\n",
       "395  Ketapril         10           51.236606\n",
       "396  Ketapril          0           45.000000\n",
       "397  Ketapril          5           45.824881"
      ]
     },
     "execution_count": 5,
     "metadata": {},
     "output_type": "execute_result"
    }
   ],
   "source": [
    "original_df.drop(original_df.columns[[0, 4]], axis = 1, inplace = True)\n",
    "original_df.head()"
   ]
  },
  {
   "cell_type": "code",
   "execution_count": 6,
   "metadata": {},
   "outputs": [
    {
     "data": {
      "text/html": [
       "<div>\n",
       "<style>\n",
       "    .dataframe thead tr:only-child th {\n",
       "        text-align: right;\n",
       "    }\n",
       "\n",
       "    .dataframe thead th {\n",
       "        text-align: left;\n",
       "    }\n",
       "\n",
       "    .dataframe tbody tr th {\n",
       "        vertical-align: top;\n",
       "    }\n",
       "</style>\n",
       "<table border=\"1\" class=\"dataframe\">\n",
       "  <thead>\n",
       "    <tr style=\"text-align: right;\">\n",
       "      <th></th>\n",
       "      <th>Tumor Volume (mm3)</th>\n",
       "    </tr>\n",
       "    <tr>\n",
       "      <th>Timepoint</th>\n",
       "      <th></th>\n",
       "    </tr>\n",
       "  </thead>\n",
       "  <tbody>\n",
       "    <tr>\n",
       "      <th>0</th>\n",
       "      <td>45.000000</td>\n",
       "    </tr>\n",
       "    <tr>\n",
       "      <th>5</th>\n",
       "      <td>44.266086</td>\n",
       "    </tr>\n",
       "    <tr>\n",
       "      <th>10</th>\n",
       "      <td>43.084291</td>\n",
       "    </tr>\n",
       "    <tr>\n",
       "      <th>15</th>\n",
       "      <td>42.064317</td>\n",
       "    </tr>\n",
       "    <tr>\n",
       "      <th>20</th>\n",
       "      <td>40.716325</td>\n",
       "    </tr>\n",
       "  </tbody>\n",
       "</table>\n",
       "</div>"
      ],
      "text/plain": [
       "           Tumor Volume (mm3)\n",
       "Timepoint                    \n",
       "0                   45.000000\n",
       "5                   44.266086\n",
       "10                  43.084291\n",
       "15                  42.064317\n",
       "20                  40.716325"
      ]
     },
     "execution_count": 6,
     "metadata": {},
     "output_type": "execute_result"
    }
   ],
   "source": [
    "tumor_response_gb = original_df.groupby([\"Drug\", \"Timepoint\"])\n",
    "tumor_response_analysis = tumor_response_gb.mean()\n",
    "\n",
    "capomulin_1 = tumor_response_analysis.loc[\"Capomulin\"]\n",
    "infubinol_1 = tumor_response_analysis.loc['Infubinol']\n",
    "ketapril_1 = tumor_response_analysis.loc['Ketapril']\n",
    "placebo_1 = tumor_response_analysis.loc['Placebo']\n",
    "\n",
    "tumor_response_sem = tumor_response_gb.sem()\n",
    "capomulin_tumor_se = tumor_response_sem.loc[\"Capomulin\"]\n",
    "infubinol_tumor_se = tumor_response_sem.loc['Infubinol']\n",
    "ketapril_tumor_se = tumor_response_sem.loc['Ketapril']\n",
    "placebo_tumor_se = tumor_response_sem.loc['Placebo']\n",
    "\n",
    "capomulin_1.head()"
   ]
  },
  {
   "cell_type": "code",
   "execution_count": 7,
   "metadata": {},
   "outputs": [
    {
     "data": {
      "image/png": "[encoded data removed]",
      "text/plain": [
       "<matplotlib.figure.Figure at 0x192be83e710>"
      ]
     },
     "metadata": {},
     "output_type": "display_data"
    }
   ],
   "source": [
    "capomulin_ta = plt.scatter(timepoint, capomulin_1['Tumor Volume (mm3)'], marker=\"o\", color=\"r\", edgecolors=\"black\", label = \"Capomulin\")\n",
    "infubinol_ta = plt.scatter(timepoint, infubinol_1['Tumor Volume (mm3)'], marker=\"+\", color=\"b\", edgecolors=\"black\", label = \"Infubinol\")\n",
    "ketapril_ta = plt.scatter(timepoint, ketapril_1['Tumor Volume (mm3)'], marker=\"<\", color=\"y\", edgecolors=\"black\", label = \"Ketapril\")\n",
    "placebo_ta = plt.scatter(timepoint, placebo_1['Tumor Volume (mm3)'], marker=\"*\", color=\"g\", edgecolors=\"black\", label = \"Placebo\")\n",
    "\n",
    "plt.errorbar(timepoint, capomulin_1['Tumor Volume (mm3)'], yerr= capomulin_tumor_se['Tumor Volume (mm3)'], barsabove = True, capsize = 3, color = \"r\")\n",
    "plt.errorbar(timepoint, infubinol_1['Tumor Volume (mm3)'], yerr= infubinol_tumor_se['Tumor Volume (mm3)'], barsabove = True, capsize = 3, color = \"b\")\n",
    "plt.errorbar(timepoint, ketapril_1['Tumor Volume (mm3)'], yerr= ketapril_tumor_se['Tumor Volume (mm3)'], barsabove = True, capsize = 3, color = \"y\")\n",
    "plt.errorbar(timepoint, placebo_1['Tumor Volume (mm3)'], yerr= placebo_tumor_se['Tumor Volume (mm3)'], barsabove = True, capsize = 3, color = \"g\")\n",
    "\n",
    "plt.xlim(min(timepoint), max(timepoint))\n",
    "plt.ylim(30,80)\n",
    "plt.xticks(np.arange(0, 50, 5.0))\n",
    "plt.grid()\n",
    "\n",
    "plt.title(\"Tumor Response to Treatment\")\n",
    "plt.xlabel(\"Time (Days)\")\n",
    "plt.ylabel(\"Tumor Volume (mm3)\")\n",
    "\n",
    "plt.legend(handles=[capomulin_ta, infubinol_ta, ketapril_ta, placebo_ta ], loc=\"best\")\n",
    "\n",
    "plt.show()"
   ]
  },
  {
   "cell_type": "code",
   "execution_count": 8,
   "metadata": {
    "collapsed": true
   },
   "outputs": [],
   "source": [
    "df_2.drop(df_2.columns[[0, 3]], axis = 1, inplace = True)"
   ]
  },
  {
   "cell_type": "code",
   "execution_count": 9,
   "metadata": {},
   "outputs": [
    {
     "data": {
      "text/html": [
       "<div>\n",
       "<style>\n",
       "    .dataframe thead tr:only-child th {\n",
       "        text-align: right;\n",
       "    }\n",
       "\n",
       "    .dataframe thead th {\n",
       "        text-align: left;\n",
       "    }\n",
       "\n",
       "    .dataframe tbody tr th {\n",
       "        vertical-align: top;\n",
       "    }\n",
       "</style>\n",
       "<table border=\"1\" class=\"dataframe\">\n",
       "  <thead>\n",
       "    <tr style=\"text-align: right;\">\n",
       "      <th></th>\n",
       "      <th>Metastatic Sites</th>\n",
       "    </tr>\n",
       "    <tr>\n",
       "      <th>Timepoint</th>\n",
       "      <th></th>\n",
       "    </tr>\n",
       "  </thead>\n",
       "  <tbody>\n",
       "    <tr>\n",
       "      <th>0</th>\n",
       "      <td>0.000000</td>\n",
       "    </tr>\n",
       "    <tr>\n",
       "      <th>5</th>\n",
       "      <td>0.160000</td>\n",
       "    </tr>\n",
       "    <tr>\n",
       "      <th>10</th>\n",
       "      <td>0.320000</td>\n",
       "    </tr>\n",
       "    <tr>\n",
       "      <th>15</th>\n",
       "      <td>0.375000</td>\n",
       "    </tr>\n",
       "    <tr>\n",
       "      <th>20</th>\n",
       "      <td>0.652174</td>\n",
       "    </tr>\n",
       "  </tbody>\n",
       "</table>\n",
       "</div>"
      ],
      "text/plain": [
       "           Metastatic Sites\n",
       "Timepoint                  \n",
       "0                  0.000000\n",
       "5                  0.160000\n",
       "10                 0.320000\n",
       "15                 0.375000\n",
       "20                 0.652174"
      ]
     },
     "execution_count": 9,
     "metadata": {},
     "output_type": "execute_result"
    }
   ],
   "source": [
    "metastatic_response_gb = df_2.groupby([\"Drug\", \"Timepoint\"])\n",
    "metastatic_response_analysis = metastatic_response_gb.mean()\n",
    "\n",
    "capomulin_2 = metastatic_response_analysis.loc[\"Capomulin\"]\n",
    "infubinol_2 = metastatic_response_analysis.loc['Infubinol']\n",
    "ketapril_2 = metastatic_response_analysis.loc['Ketapril']\n",
    "placebo_2 = metastatic_response_analysis.loc['Placebo']\n",
    "\n",
    "metastatic_response_sem = metastatic_response_gb.sem()\n",
    "capomulin_metastatic_se = metastatic_response_sem.loc[\"Capomulin\"]\n",
    "infubinol_metastatic_se = metastatic_response_sem.loc['Infubinol']\n",
    "ketapril_metastatic_se = metastatic_response_sem.loc['Ketapril']\n",
    "placebo_metastatic_se = metastatic_response_sem.loc['Placebo']\n",
    "\n",
    "capomulin_2.head()"
   ]
  },
  {
   "cell_type": "code",
   "execution_count": 10,
   "metadata": {},
   "outputs": [
    {
     "data": {
      "image/png": "[encoded data removed]",
      "text/plain": [
       "<matplotlib.figure.Figure at 0x192beb4ca20>"
      ]
     },
     "metadata": {},
     "output_type": "display_data"
    }
   ],
   "source": [
    "capomulin_ma = plt.scatter(timepoint, capomulin_2['Metastatic Sites'], marker=\"o\", color=\"r\", edgecolors=\"black\", label = \"Capomulin\")\n",
    "infubinol_ma = plt.scatter(timepoint, infubinol_2['Metastatic Sites'], marker=\"+\", color=\"b\", edgecolors=\"black\", label = \"Infubinol\")\n",
    "ketapril_ma = plt.scatter(timepoint, ketapril_2['Metastatic Sites'], marker=\"<\", color=\"y\", edgecolors=\"black\", label = \"Ketapril\")\n",
    "placebo_ma = plt.scatter(timepoint, placebo_2['Metastatic Sites'], marker=\"*\", color=\"g\", edgecolors=\"black\", label = \"Placebo\")\n",
    "\n",
    "plt.errorbar(timepoint, capomulin_2['Metastatic Sites'], yerr= capomulin_metastatic_se['Metastatic Sites'], barsabove = True, capsize = 3, color = \"r\")\n",
    "plt.errorbar(timepoint, infubinol_2['Metastatic Sites'], yerr= infubinol_metastatic_se['Metastatic Sites'], barsabove = True, capsize = 3, color = \"b\")\n",
    "plt.errorbar(timepoint, ketapril_2['Metastatic Sites'], yerr= ketapril_metastatic_se['Metastatic Sites'], barsabove = True, capsize = 3, color = \"y\")\n",
    "plt.errorbar(timepoint, placebo_2['Metastatic Sites'], yerr= placebo_metastatic_se['Metastatic Sites'], barsabove = True, capsize = 3, color = \"g\")\n",
    "\n",
    "plt.xlim(min(timepoint), max(timepoint))\n",
    "plt.ylim(0,max(metastatic_response_analysis[\"Metastatic Sites\"])+1)\n",
    "plt.xticks(np.arange(0, 50, 5.0))\n",
    "plt.grid()\n",
    "\n",
    "plt.title(\"Metastatic Spread During Treatment\")\n",
    "plt.xlabel(\"Time (Days)\")\n",
    "plt.ylabel(\"Metastatic Sites\")\n",
    "\n",
    "plt.legend(handles=[capomulin_ta, infubinol_ta, ketapril_ta, placebo_ta ], loc=\"best\")\n",
    "\n",
    "plt.show()"
   ]
  },
  {
   "cell_type": "code",
   "execution_count": 13,
   "metadata": {
    "collapsed": true
   },
   "outputs": [],
   "source": [
    "df_3.drop(original_df.columns[[3, 4]], axis = 1, inplace = True)"
   ]
  },
  {
   "cell_type": "code",
   "execution_count": 14,
   "metadata": {
    "collapsed": true
   },
   "outputs": [],
   "source": [
    "survival_gb = df_3.groupby([\"Drug\", \"Timepoint\"])\n",
    "survival_analysis = survival_gb.count()\n",
    "\n",
    "capomulin_3 = survival_analysis.loc[\"Capomulin\"]\n",
    "infubinol_3 = survival_analysis.loc['Infubinol']\n",
    "ketapril_3 = survival_analysis.loc['Ketapril']\n",
    "placebo_3 = survival_analysis.loc['Placebo']\n"
   ]
  },
  {
   "cell_type": "code",
   "execution_count": 15,
   "metadata": {
    "scrolled": true
   },
   "outputs": [
    {
     "data": {
      "image/png": "[encoded data removed]",
      "text/plain": [
       "<matplotlib.figure.Figure at 0x192becba3c8>"
      ]
     },
     "metadata": {},
     "output_type": "display_data"
    }
   ],
   "source": [
    "capomulin_sr = plt.scatter(timepoint, (capomulin_3['Mouse ID']/max(capomulin_3['Mouse ID']))*100, marker=\"o\", color=\"r\", edgecolors=\"black\", label = \"Capomulin\")\n",
    "infubinol_sr = plt.scatter(timepoint, (infubinol_3['Mouse ID']/max(infubinol_3['Mouse ID']))*100, marker=\"+\", color=\"b\", edgecolors=\"black\", label = \"Infubinol\")\n",
    "ketapril_sr = plt.scatter(timepoint, (ketapril_3['Mouse ID']/max(ketapril_3['Mouse ID']))*100, marker=\"<\", color=\"y\", edgecolors=\"black\", label = \"Ketapril\")\n",
    "placebo_sr = plt.scatter(timepoint, (placebo_3['Mouse ID']/max(placebo_3['Mouse ID']))*100, marker=\"*\", color=\"g\", edgecolors=\"black\", label = \"Placebo\")\n",
    "\n",
    "plt.xlim(min(timepoint), max(timepoint))\n",
    "plt.ylim(0, 100)\n",
    "plt.xticks(np.arange(0, 50, 5.0))\n",
    "plt.grid()\n",
    "\n",
    "plt.title(\"Survival During Treatment\")\n",
    "plt.xlabel(\"Time (Days)\")\n",
    "plt.ylabel(\"Survival Rate (%)\")\n",
    "\n",
    "plt.legend(handles=[capomulin_ta, infubinol_ta, ketapril_ta, placebo_ta ], loc=\"best\")\n",
    "\n",
    "plt.show()"
   ]
  },
  {
   "cell_type": "code",
   "execution_count": 16,
   "metadata": {},
   "outputs": [
    {
     "data": {
      "image/png": "[encoded data removed]",
      "text/plain": [
       "<matplotlib.figure.Figure at 0x192bee155f8>"
      ]
     },
     "metadata": {},
     "output_type": "display_data"
    }
   ],
   "source": [
    "cap_tumor_changes = (((capomulin_1['Tumor Volume (mm3)'].iloc[9]-capomulin_1['Tumor Volume (mm3)'].iloc[0])/45)*100)\n",
    "inf_tumor_changes = (((infubinol_1['Tumor Volume (mm3)'].iloc[9]-infubinol_1['Tumor Volume (mm3)'].iloc[0])/45)*100)\n",
    "ket_tumor_changes = (((ketapril_1['Tumor Volume (mm3)'].iloc[9]-ketapril_1['Tumor Volume (mm3)'].iloc[0])/45)*100)\n",
    "pla_tumor_changes = (((placebo_1['Tumor Volume (mm3)'].iloc[9]-placebo_1['Tumor Volume (mm3)'].iloc[0])/45)*100)\n",
    "\n",
    "tumor_changes = pd.Series([cap_tumor_changes, inf_tumor_changes, ket_tumor_changes, pla_tumor_changes])\n",
    "new_tumor_changes = []\n",
    "for var in tumor_changes:\n",
    "    var = int(var)\n",
    "    new_tumor_changes.append(var)\n",
    "    \n",
    "x_axis = np.arange(len(drug_list))\n",
    "\n",
    "bar_graph = plt.bar(x_axis, tumor_changes, align=\"edge\")\n",
    "\n",
    "for bar in new_tumor_changes:\n",
    "    if bar < 0: \n",
    "        bar_graph[new_tumor_changes.index(bar)].set_color(\"g\")\n",
    "    else:\n",
    "        bar_graph[new_tumor_changes.index(bar)].set_color(\"r\")\n",
    "        \n",
    "\n",
    "tick_locations = [value+0.4 for value in x_axis]\n",
    "plt.xticks(tick_locations, drug_list)\n",
    "\n",
    "plt.title(\"Tumor Change over 45 Day Treatment\")\n",
    "plt.ylabel(\"% Tumor Volume Change\")\n",
    "\n",
    "plt.ylim(min(tumor_changes) - 20, max(tumor_changes) + 20)\n",
    "plt.grid()\n",
    "\n",
    "\n",
    "plt.show()"
   ]
  },
  {
   "cell_type": "code",
   "execution_count": null,
   "metadata": {
    "collapsed": true
   },
   "outputs": [],
   "source": []
  },
  {
   "cell_type": "code",
   "execution_count": null,
   "metadata": {
    "collapsed": true
   },
   "outputs": [],
   "source": []
  },
  {
   "cell_type": "code",
   "execution_count": null,
   "metadata": {
    "collapsed": true
   },
   "outputs": [],
   "source": []
  },
  {
   "cell_type": "code",
   "execution_count": null,
   "metadata": {
    "collapsed": true
   },
   "outputs": [],
   "source": []
  }
 ],
 "metadata": {
  "kernelspec": {
   "display_name": "Python 3",
   "language": "python",
   "name": "python3"
  },
  "language_info": {
   "codemirror_mode": {
    "name": "ipython",
    "version": 3
   },
   "file_extension": ".py",
   "mimetype": "text/x-python",
   "name": "python",
   "nbconvert_exporter": "python",
   "pygments_lexer": "ipython3",
   "version": "3.6.3"
  }
 },
 "nbformat": 4,
 "nbformat_minor": 2
}
